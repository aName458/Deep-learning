{
  "cells": [
    {
      "cell_type": "markdown",
      "metadata": {
        "id": "view-in-github",
        "colab_type": "text"
      },
      "source": [
        "<a href=\"https://colab.research.google.com/github/aName458/Deep-learning/blob/main/Untitled2.ipynb\" target=\"_parent\"><img src=\"https://colab.research.google.com/assets/colab-badge.svg\" alt=\"Open In Colab\"/></a>"
      ]
    },
    {
      "cell_type": "code",
      "execution_count": null,
      "metadata": {
        "id": "KlxnpK9xeMO5"
      },
      "outputs": [],
      "source": [
        "import tensorflow as tf\n",
        "from tensorflow import keras\n",
        "import numpy as np\n",
        "import matplotlib.pyplot as plt\n",
        "%matplotlib inline\n",
        "\n",
        "max_accuracy = 0\n",
        "\n",
        "#make data\n",
        "data = keras.datasets.mnist\n",
        "(train_images, train_labels),(test_images, test_labels) = data.load_data()\n",
        "\n",
        "train_images = train_images/255\n",
        "test_images = test_images/255\n",
        "\n",
        "total_classes = 10\n",
        "train_vec_labels = keras.utils.to_categorical(train_labels, total_classes)\n",
        "test_vec_labels = keras.utils.to_categorical(test_labels, total_classes)\n",
        "\n",
        "\n",
        "#make model\n",
        "model = keras.Sequential([\n",
        "    keras.layers.Flatten(input_shape=(28,28)),\n",
        "    keras.layers.Dense(128, activation='tanh'),\n",
        "    keras.layers.Dense(128, activation='tanh'),\n",
        "    keras.layers.Dense(128, activation='tanh'),\n",
        "    keras.layers.Dense(128, activation='tanh'),\n",
        "    keras.layers.Dense(total_classes, activation='tanh'),\n",
        "])\n",
        "\n",
        "model.compile(\n",
        "    optimizer='sgd',\n",
        "    loss='mean_squared_error',\n",
        "    metrics=['accuracy'])\n",
        "\n",
        "test_vec_labels = keras.utils.to_categorical(test_labels, total_classes)\n",
        "\n",
        "for f in range(0,1,1):\n",
        "  model.fit(train_images, train_vec_labels, epochs=1)\n",
        "  eval_loss, eval_accuracy = model.evaluate(test_images,test_vec_labels, verbose=0) # Added verbose=0 to suppress output\n",
        "  if \"%.2f\"%eval_accuracy > str(max_accuracy): # Corrected the comparison\n",
        "    model.save(\"test.keras\")\n",
        "    max_accuracy = eval_accuracy\n",
        "\n",
        "\n",
        "eval_loss, eval_accuracy = model.evaluate(test_images,test_vec_labels)\n",
        "print(\"model accuracy: %.2f\" %eval_accuracy)\n",
        "\n",
        "model.save(\"test.keras\")\n",
        "\n",
        "model.save(\"test.keras\")\n",
        "\n",
        "eval_loss, eval_accuracy = model.evaluate(test_images, test_vec_labels, verbose=0)\n"
      ]
    },
    {
      "cell_type": "code",
      "source": [
        "new_model = keras.models.load_model('test.keras')\n",
        "right_guesses = 0\n",
        "wrong_guesses = 0\n",
        "right_guesses2 = 0\n",
        "\n",
        "#predict model\n",
        "for j in range(0,100,1):\n",
        "  prediction = new_model.predict(np.expand_dims(test_images[j], axis=0))\n",
        "  max_prediction = prediction.argmax()\n",
        "\n",
        "  for i in range(0,10,1):\n",
        "    if max_prediction == i:\n",
        "      if max_prediction != test_labels[j]:\n",
        "        print(f\"guessed number:{i}\")\n",
        "        print(f\"label: {test_labels[j]}\")\n",
        "        right_guesses += 1\n",
        "        wrong_guesses += 1\n",
        "        plt.imshow(test_images[j], cmap=plt.get_cmap('gray'))\n",
        "        plt.show()\n",
        "\n",
        "\n",
        "      else:\n",
        "        right_guesses += 1\n",
        "        right_guesses2 += 1\n",
        "\n",
        "\n",
        "print(f\"{wrong_guesses} aus {right_guesses} falsch / {right_guesses2} richtig\")\n",
        "print(\"model accuracy: %.2f\" %eval_accuracy)"
      ],
      "metadata": {
        "id": "4sDT35iqVrrP"
      },
      "execution_count": null,
      "outputs": []
    },
    {
      "cell_type": "code",
      "source": [],
      "metadata": {
        "id": "FndDYsXLAhuE"
      },
      "execution_count": null,
      "outputs": []
    }
  ],
  "metadata": {
    "colab": {
      "provenance": [],
      "authorship_tag": "ABX9TyMfq2GWOBsZwotdce1tzh49",
      "include_colab_link": true
    },
    "kernelspec": {
      "display_name": "Python 3",
      "name": "python3"
    },
    "language_info": {
      "name": "python"
    }
  },
  "nbformat": 4,
  "nbformat_minor": 0
}